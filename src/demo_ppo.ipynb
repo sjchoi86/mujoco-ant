{
 "cells": [
  {
   "cell_type": "markdown",
   "metadata": {},
   "source": [
    "# Run PPO on Ant from [here](https://github.com/pat-coady/trpo)\n",
    "#### More descriptions can be found on Patrick Coady's blog regarding [gym and ppo](https://learningai.io/projects/2017/07/28/ai-gym-workout.html) or [descriptions about Ant env](https://gist.github.com/pat-coady/bac60888f011199aad72d2f1e6f5a4fa)"
   ]
  },
  {
   "cell_type": "code",
   "execution_count": null,
   "metadata": {},
   "outputs": [],
   "source": [
    "import tensorflow as tf\n",
    "from antTrainEnv_class import antTrainEnv_ppo_class\n",
    "%matplotlib inline  \n",
    "print (\"TF version is [%s].\"%(tf.__version__))"
   ]
  },
  {
   "cell_type": "code",
   "execution_count": null,
   "metadata": {},
   "outputs": [],
   "source": [
    "headingCoef = 1e-4 # Heading penalty \n",
    "maxSec = 6\n",
    "maxEpoch  = 10000\n",
    "batchSize = 100\n",
    "name = 'ant_ppo_headingCoef%.0e_maxSec%d_batchSize%d'%\\\n",
    "    (headingCoef,maxSec,batchSize)\n",
    "print (\"Name:[%s]\"%(name))"
   ]
  },
  {
   "cell_type": "code",
   "execution_count": null,
   "metadata": {},
   "outputs": [],
   "source": [
    "AntPPO = antTrainEnv_ppo_class(_name=name,_headingCoef=headingCoef)"
   ]
  },
  {
   "cell_type": "code",
   "execution_count": null,
   "metadata": {
    "scrolled": true
   },
   "outputs": [],
   "source": [
    "PLOT_EVERY = 10\n",
    "AntPPO.train(_maxEpoch=maxEpoch,_batchSize=batchSize,_maxSec=maxSec,_PLOT_EVERY=PLOT_EVERY)"
   ]
  },
  {
   "cell_type": "code",
   "execution_count": null,
   "metadata": {},
   "outputs": [],
   "source": []
  }
 ],
 "metadata": {
  "kernelspec": {
   "display_name": "Python 3",
   "language": "python",
   "name": "python3"
  },
  "language_info": {
   "codemirror_mode": {
    "name": "ipython",
    "version": 3
   },
   "file_extension": ".py",
   "mimetype": "text/x-python",
   "name": "python",
   "nbconvert_exporter": "python",
   "pygments_lexer": "ipython3",
   "version": "3.5.2"
  }
 },
 "nbformat": 4,
 "nbformat_minor": 2
}
