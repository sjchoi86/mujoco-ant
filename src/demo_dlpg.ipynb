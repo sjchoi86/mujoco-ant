{
 "cells": [
  {
   "cell_type": "markdown",
   "metadata": {},
   "source": [
    "# Deep Latent Policy Gradient for Ant"
   ]
  },
  {
   "cell_type": "code",
   "execution_count": null,
   "metadata": {},
   "outputs": [],
   "source": [
    "import gym,warnings,time\n",
    "warnings.filterwarnings(\"ignore\") # Stop annoying warnings\n",
    "gym.logger.set_level(40)\n",
    "import numpy as np\n",
    "import tensorflow as tf\n",
    "import tensorflow.contrib.slim as slim\n",
    "import matplotlib.pyplot as plt\n",
    "%matplotlib inline\n",
    "import skvideo.io\n",
    "from datetime import datetime\n",
    "from custom_ant import AntEnvCustom # Custom ant \n",
    "from lgrp_class import lgrp_class # Gaussian random path\n",
    "from vae_class import vae_class # VAE\n",
    "from antTrainEnv_class import antTrainEnv_class\n",
    "from util import PID_class,display_frames_as_gif,\\\n",
    "    quaternion_to_euler_angle,multi_dim_interp,cpu_sess,gpu_sess,Scaler\n",
    "print (\"TF version is [%s].\"%(tf.__version__))"
   ]
  },
  {
   "cell_type": "markdown",
   "metadata": {},
   "source": [
    "### Instantiate Class"
   ]
  },
  {
   "cell_type": "code",
   "execution_count": null,
   "metadata": {
    "scrolled": false
   },
   "outputs": [],
   "source": [
    "tf.reset_default_graph() # Reset Graph\n",
    "AntEnv = antTrainEnv_class(_tMax=3,_nAnchor=20,_maxRepeat=3,_hypGain=1/4,_hypLen=1/4,_pGain=0.01,\n",
    "            _zDim=16,_hDims=[64,64],_vaeActv=tf.nn.relu,\n",
    "            _PLOT_GRP=True)"
   ]
  },
  {
   "cell_type": "markdown",
   "metadata": {},
   "source": [
    "### Train Ant"
   ]
  },
  {
   "cell_type": "code",
   "execution_count": null,
   "metadata": {},
   "outputs": [],
   "source": [
    "SAVE_VID = False\n",
    "MAKE_GIF = False # Probably unnecessary \n",
    "PLOT_GRP = True \n",
    "PLOT_EVERY = 10"
   ]
  },
  {
   "cell_type": "code",
   "execution_count": null,
   "metadata": {
    "scrolled": false
   },
   "outputs": [],
   "source": [
    "sess = gpu_sess()\n",
    "maxEpoch  = 500\n",
    "batchSize = 100\n",
    "print (\"Start training...\")\n",
    "AntEnv.train_dlpg(_sess=sess,_seed=0,_maxEpoch=maxEpoch,_batchSize=batchSize,_nIter4update=1e4,\n",
    "                 _SAVE_VID=SAVE_VID,_MAKE_GIF=MAKE_GIF,_PLOT_GRP=PLOT_GRP,_PLOT_EVERY=PLOT_EVERY,\n",
    "                 _DO_RENDER=False)"
   ]
  },
  {
   "cell_type": "markdown",
   "metadata": {},
   "source": [
    "### Make Final vid"
   ]
  },
  {
   "cell_type": "code",
   "execution_count": null,
   "metadata": {},
   "outputs": [],
   "source": [
    "SAVE_VID_FINAL = True\n",
    "MAKE_GIF_FINAL = False\n",
    "PLOT_GRP_FINAL = True"
   ]
  },
  {
   "cell_type": "code",
   "execution_count": null,
   "metadata": {
    "scrolled": false
   },
   "outputs": [],
   "source": [
    "for _i in range(3):\n",
    "    np.random.seed(seed=_i+100)\n",
    "    sampledX = AntEnv.VAE.sample(_sess=sess).reshape((AntEnv.nAnchor,AntEnv.env.actDim))\n",
    "    sampledX = (sampledX-sampledX.min())/(sampledX.max()-sampledX.min())\n",
    "    AntEnv.set_anchor_grp_posterior(_anchors=sampledX,_levBtw=0.99)\n",
    "    avgRwd,ret = AntEnv.unit_rollout_from_grp_mean(_maxRepeat=AntEnv.maxRepeat,_DO_RENDER=True)\n",
    "    print (\"  [^] avgRwd:[%.3f] Xdisp:[%.3f] Hdisp:[%.3f]\"%(avgRwd,ret['xDisp'],ret['hDisp']))\n",
    "    if SAVE_VID_FINAL:\n",
    "        outputdata = np.asarray(ret['frames']).astype(np.uint8)\n",
    "        vidName = 'vids/ant_dlpg_final_%d.mp4'%(_i)\n",
    "        skvideo.io.vwrite(vidName,outputdata)\n",
    "        print (\"[%s] saved.\"%(vidName))\n",
    "    if MAKE_GIF_FINAL:\n",
    "        display_frames_as_gif(ret['frames'],_intv_ms=20,_figsize=(6,6),_fontsize=15,\n",
    "                              _titleStrs=ret['titleStrs'])\n",
    "    if PLOT_GRP_FINAL:\n",
    "        AntEnv.GRPposterior.plot_all(_nPath=10,_figsize=(10,4))"
   ]
  },
  {
   "cell_type": "code",
   "execution_count": null,
   "metadata": {},
   "outputs": [],
   "source": []
  },
  {
   "cell_type": "code",
   "execution_count": null,
   "metadata": {},
   "outputs": [],
   "source": []
  },
  {
   "cell_type": "code",
   "execution_count": null,
   "metadata": {},
   "outputs": [],
   "source": []
  }
 ],
 "metadata": {
  "kernelspec": {
   "display_name": "Python 3",
   "language": "python",
   "name": "python3"
  },
  "language_info": {
   "codemirror_mode": {
    "name": "ipython",
    "version": 3
   },
   "file_extension": ".py",
   "mimetype": "text/x-python",
   "name": "python",
   "nbconvert_exporter": "python",
   "pygments_lexer": "ipython3",
   "version": "3.6.5"
  }
 },
 "nbformat": 4,
 "nbformat_minor": 2
}
