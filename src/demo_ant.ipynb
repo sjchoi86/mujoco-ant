{
 "cells": [
  {
   "cell_type": "markdown",
   "metadata": {},
   "source": [
    "# Description of Ant-V2 in MuJoCo"
   ]
  },
  {
   "cell_type": "code",
   "execution_count": null,
   "metadata": {},
   "outputs": [],
   "source": [
    "import gym,mujoco_py,warnings\n",
    "# Remove annoying warning signs\n",
    "gym.logger.set_level(40)\n",
    "warnings.filterwarnings(\"ignore\") \n",
    "import numpy as np\n",
    "import tensorflow as tf\n",
    "import matplotlib.pyplot as plt\n",
    "%matplotlib inline  \n",
    "%config InlineBackend.figure_format = 'retina'\n",
    "from custom_ant import AntEnvCustom\n",
    "np.set_printoptions(precision=3)\n",
    "\n",
    "#from pyvirtualdisplay import Display\n",
    "#display = Display(visible=0, size=(1400, 900))\n",
    "#display.start()\n",
    "\n",
    "print (\"Packages Loaded\")"
   ]
  },
  {
   "cell_type": "markdown",
   "metadata": {},
   "source": [
    "### Open Ant-V2"
   ]
  },
  {
   "cell_type": "code",
   "execution_count": null,
   "metadata": {},
   "outputs": [],
   "source": [
    "env = AntEnvCustom()\n",
    "obs_dim = env.observation_space.shape[0]\n",
    "act_dim = env.action_space.shape[0]\n",
    "env.reset() # Reset \n",
    "# render_img = env.render(mode='rgb_array')\n",
    "print (\"Environment initialized.\")"
   ]
  },
  {
   "cell_type": "markdown",
   "metadata": {},
   "source": [
    "### In observations, \n",
    "#### (1) height z\n",
    "#### (4) quartanion\n",
    "#### (8) joint angle in rad"
   ]
  },
  {
   "cell_type": "markdown",
   "metadata": {},
   "source": [
    "### Set pos and plot"
   ]
  },
  {
   "cell_type": "code",
   "execution_count": null,
   "metadata": {
    "scrolled": true
   },
   "outputs": [],
   "source": [
    "pos = env.init_qpos\n",
    "jPosList = [[0,0,0,0,0,0,0,0],[0,90,0,-90,0,-90,0,90]\n",
    "           ,[90,0,0,0,0,0,0,0],[0,90,0,0,0,0,0,0],[0,0,90,0,0,0,0,0]\n",
    "           ,[0,0,0,90,0,0,0,0],[0,0,0,0,90,0,0,0],[0,0,0,0,0,90,0,0]\n",
    "           ,[0,0,0,0,0,0,90,0],[0,0,0,0,0,0,0,90]]\n",
    "for jPos in jPosList:\n",
    "    # Modify joint postion (only)\n",
    "    pos[7:] = np.asarray(jPos).astype(np.float32)*np.pi/180.0\n",
    "    env.set_state(pos,env.init_qvel) # Init state\n",
    "    # Plot\n",
    "    render_img = env.render(mode='rgb_array',width=100,height=100)\n",
    "    plt.figure(figsize=(6,6));plt.imshow(render_img);\n",
    "    plt.title('qPos:%s'%(pos[7:]*180.0/np.pi),fontsize=14);plt.show()"
   ]
  },
  {
   "cell_type": "markdown",
   "metadata": {},
   "source": [
    "### Set action and plot"
   ]
  },
  {
   "cell_type": "code",
   "execution_count": null,
   "metadata": {
    "scrolled": true
   },
   "outputs": [],
   "source": [
    "pos = env.init_qpos\n",
    "actionList = [[0,0,0,0,0,0,0,0]\n",
    "           ,[1,0,0,0,0,0,0,0],[0,1,0,0,0,0,0,0],[0,0,1,0,0,0,0,0]\n",
    "           ,[0,0,0,1,0,0,0,0],[0,0,0,0,1,0,0,0],[0,0,0,0,0,1,0,0]\n",
    "           ,[0,0,0,0,0,0,1,0],[0,0,0,0,0,0,0,1]]\n",
    "for action in actionList:\n",
    "    # Init pos\n",
    "    pos[7:] = np.asarray([0,90,0,-90,0,-90,0,90]).astype(np.float32)*np.pi/180.0\n",
    "    env.reset()\n",
    "    env.set_state(pos,env.init_qvel) # Init state\n",
    "    for i in range(100):\n",
    "        obs,reward,done,_ = env.step(np.asarray(action).astype(np.float16))\n",
    "    # Plot\n",
    "    render_img = env.render(mode='rgb_array',width=100,height=100)\n",
    "    plt.figure(figsize=(6,6));plt.imshow(render_img);\n",
    "    plt.title('Action:%s'%(action),fontsize=14);plt.show()"
   ]
  },
  {
   "cell_type": "markdown",
   "metadata": {},
   "source": [
    "### Get time of MuJoCo"
   ]
  },
  {
   "cell_type": "code",
   "execution_count": null,
   "metadata": {},
   "outputs": [],
   "source": [
    "env.reset() # Reset\n",
    "for tick in range(10):\n",
    "    env.step(np.zeros(act_dim))\n",
    "    t = env.sim.data.time\n",
    "    print ('tick:[%d] time:[%.2f]sec'%(tick,t))"
   ]
  },
  {
   "cell_type": "markdown",
   "metadata": {},
   "source": [
    "### Make display"
   ]
  },
  {
   "cell_type": "code",
   "execution_count": null,
   "metadata": {},
   "outputs": [],
   "source": [
    "from JSAnimation.IPython_display import display_animation\n",
    "from matplotlib import animation\n",
    "from IPython.display import display\n",
    "def display_frames_as_gif(frames,_intv_ms=100,_figsize=(6,6),_fontsize=15):\n",
    "    plt.figure(figsize=_figsize)\n",
    "    patch = plt.imshow(frames[0])\n",
    "    title = plt.title('[%d/%d]'%(0,len(frames)),fontsize=_fontsize)\n",
    "    plt.axis('off')\n",
    "    def animate(i):\n",
    "        patch.set_data(frames[i])\n",
    "        title.set_text('[%d/%d]'%(i,len(frames)))\n",
    "    anim = animation.FuncAnimation(plt.gcf(),animate,frames=len(frames),interval=_intv_ms)\n",
    "    display(display_animation(anim,default_mode='loop'))\n",
    "    !rm None0000000.png"
   ]
  },
  {
   "cell_type": "code",
   "execution_count": null,
   "metadata": {},
   "outputs": [],
   "source": [
    "env.reset() # Reset\n",
    "frames = []\n",
    "for t in range(20):\n",
    "    frames.append(env.render(mode='rgb_array',width=100,height=100))\n",
    "    action = env.action_space.sample()\n",
    "    observation, reward, done, info = env.step(action)\n",
    "# env.close()\n",
    "print (\"Makeing GIF..\")\n",
    "display_frames_as_gif(frames,_intv_ms=50,_figsize=(6,6),_fontsize=18)\n",
    "print (\"Done.\")"
   ]
  },
  {
   "cell_type": "markdown",
   "metadata": {},
   "source": [
    "### Make video"
   ]
  },
  {
   "cell_type": "code",
   "execution_count": null,
   "metadata": {},
   "outputs": [],
   "source": [
    "import skvideo.io\n",
    "outputdata = np.asarray(frames).astype(np.uint8)\n",
    "skvideo.io.vwrite('vids/ant_demo.mp4', outputdata)\n",
    "print (\"Done.\")"
   ]
  },
  {
   "cell_type": "code",
   "execution_count": null,
   "metadata": {},
   "outputs": [],
   "source": []
  }
 ],
 "metadata": {
  "kernelspec": {
   "display_name": "Python 3",
   "language": "python",
   "name": "python3"
  },
  "language_info": {
   "codemirror_mode": {
    "name": "ipython",
    "version": 3
   },
   "file_extension": ".py",
   "mimetype": "text/x-python",
   "name": "python",
   "nbconvert_exporter": "python",
   "pygments_lexer": "ipython3",
   "version": "3.5.2"
  }
 },
 "nbformat": 4,
 "nbformat_minor": 2
}
