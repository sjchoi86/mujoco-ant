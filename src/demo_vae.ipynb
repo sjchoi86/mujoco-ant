{
 "cells": [
  {
   "cell_type": "markdown",
   "metadata": {},
   "source": [
    "### Variational Autoencoder "
   ]
  },
  {
   "cell_type": "code",
   "execution_count": 1,
   "metadata": {},
   "outputs": [
    {
     "name": "stdout",
     "output_type": "stream",
     "text": [
      "Extracting data/train-images-idx3-ubyte.gz\n",
      "Extracting data/train-labels-idx1-ubyte.gz\n",
      "Extracting data/t10k-images-idx3-ubyte.gz\n",
      "Extracting data/t10k-labels-idx1-ubyte.gz\n",
      "TF version is 1.8.0.\n"
     ]
    }
   ],
   "source": [
    "import warnings,os\n",
    "import numpy as np\n",
    "import tensorflow as tf\n",
    "import tensorflow.contrib.slim as slim # I lkie slim \n",
    "import matplotlib.pyplot as plt\n",
    "# warnings.filterwarnings(\"ignore\") # Stop showing annoying warnings\n",
    "tf.logging.set_verbosity(tf.logging.ERROR) # I like old-style MNIST w/o warnings\n",
    "from tensorflow.examples.tutorials.mnist import input_data\n",
    "from sklearn.utils import shuffle\n",
    "mnist = input_data.read_data_sets('data', one_hot=True)\n",
    "%matplotlib inline\n",
    "print (\"TF version is %s.\"%(tf.__version__))"
   ]
  },
  {
   "cell_type": "markdown",
   "metadata": {},
   "source": [
    "### Define vae class`"
   ]
  },
  {
   "cell_type": "code",
   "execution_count": 2,
   "metadata": {},
   "outputs": [],
   "source": [
    "class vae(object):\n",
    "    def __init__(self,_name='VAE',_xdim=784,_zdim=10,_hdim=128,_cdim=0,\n",
    "                _actv=tf.nn.relu,_lr=0.001,_beta1=0.9,_beta2=0.9,_epsilon=0.1,\n",
    "                _VERBOSE=True):\n",
    "        self.name  = _name\n",
    "        self.xdim  = _xdim\n",
    "        self.zdim  = _zdim\n",
    "        self.hdim  = _hdim\n",
    "        self.cdim  = _cdim\n",
    "        self.actv  = _actv\n",
    "        self.lr    = _lr\n",
    "        self.beta1 = _beta1\n",
    "        self.beta2 = _beta2\n",
    "        self.epsilon = _epsilon\n",
    "        if _VERBOSE:\n",
    "            print (\"[%s] xdim:[%d] zdim:[%d] hdim:[%d] cdim:[%d]\"\\\n",
    "                % (self.name,self.xdim,self.zdim,self.hdim,self.cdim))\n",
    "        \"\"\" MODEL CONSTRUCTION \"\"\"\n",
    "        self._define_weights()\n",
    "        self._build_model()\n"
   ]
  }
 ],
 "metadata": {
  "kernelspec": {
   "display_name": "Python 3",
   "language": "python",
   "name": "python3"
  },
  "language_info": {
   "codemirror_mode": {
    "name": "ipython",
    "version": 3
   },
   "file_extension": ".py",
   "mimetype": "text/x-python",
   "name": "python",
   "nbconvert_exporter": "python",
   "pygments_lexer": "ipython3",
   "version": "3.5.2"
  }
 },
 "nbformat": 4,
 "nbformat_minor": 2
}
